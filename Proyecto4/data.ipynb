{
 "cells": [
  {
   "cell_type": "markdown",
   "metadata": {},
   "source": [
    "# Procesador de Archivos con Transcripción y Resumen Automático\n"
   ]
  },
  {
   "cell_type": "markdown",
   "metadata": {},
   "source": [
    "Este script permite procesar archivos de audio y texto para transcribir su contenido (en caso de audio) o leer texto directamente, y luego generar un resumen detallado utilizando un servidor Llama.\n"
   ]
  },
  {
   "cell_type": "markdown",
   "metadata": {},
   "source": [
    "#### Importación de Módulos\n",
    "Primero, se importan las librerías necesarias para el proyecto:"
   ]
  },
  {
   "cell_type": "code",
   "execution_count": 1,
   "metadata": {},
   "outputs": [],
   "source": [
    "import warnings\n",
    "import requests\n",
    "import json\n",
    "import whisper\n",
    "import os\n",
    "import tkinter as tk\n",
    "from tkinter import filedialog, messagebox, scrolledtext"
   ]
  },
  {
   "cell_type": "markdown",
   "metadata": {},
   "source": [
    "#### Ignorar advertencias de whisper y torch\n",
    "Esto ya que al estarse ejecutando lanza advertencias que llenan de basura la consola"
   ]
  },
  {
   "cell_type": "code",
   "execution_count": 2,
   "metadata": {},
   "outputs": [],
   "source": [
    "warnings.filterwarnings(\"ignore\", category=UserWarning, module=\"whisper\")\n",
    "warnings.filterwarnings(\"ignore\", category=FutureWarning, module=\"torch\")"
   ]
  },
  {
   "cell_type": "markdown",
   "metadata": {},
   "source": [
    "#### Lectura y Escritura de Archivos\n",
    "Estas funciones se utilizan para leer y escribir contenido en archivos de texto:"
   ]
  },
  {
   "cell_type": "code",
   "execution_count": 3,
   "metadata": {},
   "outputs": [],
   "source": [
    "# Leer contenido de un archivo de texto\n",
    "def read_text_from_file(file_path):\n",
    "    with open(file_path, 'r', encoding='utf-8') as file:\n",
    "        return file.read()\n",
    "\n",
    "# Escribir texto en un archivo\n",
    "def write_text_to_file(file_path, text):\n",
    "    with open(file_path, 'w', encoding='utf-8') as file:\n",
    "        file.write(text)"
   ]
  },
  {
   "cell_type": "markdown",
   "metadata": {},
   "source": [
    "#### Generación de Resúmenes\n",
    "Esta función se conecta al servidor local de Llama para obtener resúmenes detallados en base al tipo de archivo que se recibió\n",
    "\n",
    "1.- El audio de un video\n",
    "2.- Un articulo\n",
    "3.- Un libro\n",
    "\n",
    "Esto le proporciona más contexto a Llama para que en base a esa información pueda dar un mejor resumen de la información que se le proporcionó"
   ]
  },
  {
   "cell_type": "code",
   "execution_count": 4,
   "metadata": {},
   "outputs": [],
   "source": [
    "# Generar un resumen usando el servidor Llama\n",
    "def get_synopsis_from_llama(text):\n",
    "    try:\n",
    "        url = \"http://localhost:1234/v1/completions\"\n",
    "        headers = {\"Content-Type\": \"application/json\"}\n",
    "        payload = {\n",
    "            \"model\": \"llama-3.2-1b-instruct\",\n",
    "            \"prompt\": f\"\"\"\n",
    "                A continuación, se presenta un documento que puede ser la transcripción de un video convertido a texto, un artículo, o un libro. Necesito un resumen detallado que contenga toda la información relevante y que sea claro y organizado. Sigue estas indicaciones según el tipo de documento:\n",
    "                Si es un video:\n",
    "                Resume los puntos clave discutidos en el video.\n",
    "                Proporciona un breve contexto para cada punto clave.\n",
    "                Incluye explícitamente información numérica o datos importantes si se mencionan.\n",
    "                Destaca conclusiones, opiniones o propuestas presentadas en el video.\n",
    "                Si es un artículo o un libro (especificado al inicio del texto):\n",
    "                Identifica el tema principal y el propósito del documento.\n",
    "                Resume los puntos clave o capítulos importantes, indicando su contexto.\n",
    "                Incluye datos relevantes, citas textuales significativas, o ideas principales que refuercen el argumento central.\n",
    "                Destaca las conclusiones, aportaciones o propuestas más relevantes.\n",
    "                Texto original:\n",
    "                {text}\n",
    "                Por favor, crea un resumen preciso y fácil de entender, destacando toda la información esencial acorde al tipo de documento.\n",
    "            \"\"\",\n",
    "            \"max_tokens\": 40000\n",
    "        }\n",
    "        print(\"Enviando solicitud al servidor Llama...\")\n",
    "        response = requests.post(url, headers=headers, data=json.dumps(payload))\n",
    "        response.raise_for_status()  # Verifica errores HTTP\n",
    "        response_data = response.json()\n",
    "        return response_data['choices'][0]['text']\n",
    "    except requests.exceptions.RequestException as e:\n",
    "        return f\"Error al conectar con el servidor Llama: {e}\""
   ]
  },
  {
   "cell_type": "markdown",
   "metadata": {},
   "source": [
    "#### Transcripción de Audio\n",
    "Esta función utiliza el modelo de OpenAI Whisper para convertir audio en texto:"
   ]
  },
  {
   "cell_type": "code",
   "execution_count": 5,
   "metadata": {},
   "outputs": [],
   "source": [
    "# Transcribir audio usando Whisper\n",
    "def transcribe_audio(file_path):\n",
    "    print(\"Transcribiendo audio...\")\n",
    "    model = whisper.load_model(\"base\", device=\"cpu\")\n",
    "    result = model.transcribe(file_path)\n",
    "    return result[\"text\"]"
   ]
  },
  {
   "cell_type": "markdown",
   "metadata": {},
   "source": [
    "#### Procesamiento de Archivos\n",
    "Esta función gestiona el flujo completo de procesamiento de archivos:"
   ]
  },
  {
   "cell_type": "code",
   "execution_count": 6,
   "metadata": {},
   "outputs": [],
   "source": [
    "# Procesar múltiples archivos de diferentes tipos\n",
    "def process_files(file_paths, status_text):\n",
    "    if not os.path.exists(\"Proyecto4/dataset\"):\n",
    "        os.makedirs(\"Proyecto4/dataset\")\n",
    "\n",
    "    for file_path in file_paths:\n",
    "        file_name, file_extension = os.path.splitext(file_path)\n",
    "        if file_extension.lower() in ['.mp4', '.wav', '.mp3']:\n",
    "            message = f\"Iniciando transcripción de audio para {file_path}...\\n\"\n",
    "            status_text.insert(tk.END, message)\n",
    "            print(message.strip())\n",
    "            text = transcribe_audio(file_path)\n",
    "            message = \"Transcripción completada. Obteniendo sinopsis del servidor Llama...\\n\"\n",
    "            status_text.insert(tk.END, message)\n",
    "            print(message.strip())\n",
    "        elif file_extension.lower() in ['.txt']:\n",
    "            message = f\"Leyendo archivo de texto {file_path}...\\n\"\n",
    "            status_text.insert(tk.END, message)\n",
    "            print(message.strip())\n",
    "            text = read_text_from_file(file_path)\n",
    "        else:\n",
    "            message = f\"Tipo de archivo no soportado: {file_path}\\n\"\n",
    "            status_text.insert(tk.END, message)\n",
    "            print(message.strip())\n",
    "            continue\n",
    "\n",
    "        synopsis = get_synopsis_from_llama(text)\n",
    "        output_file = os.path.join(\"Proyecto4/dataset\", f\"{os.path.basename(file_name)}resumen.txt\")\n",
    "        message = f\"Sinopsis obtenida. Escribiendo resultado al archivo de salida {output_file}...\\n\"\n",
    "        status_text.insert(tk.END, message)\n",
    "        print(message.strip())\n",
    "        write_text_to_file(output_file, synopsis)\n",
    "        message = f\"Proceso completado para {file_path}.\\n\"\n",
    "        status_text.insert(tk.END, message)\n",
    "        print(message.strip())"
   ]
  },
  {
   "cell_type": "markdown",
   "metadata": {},
   "source": [
    "#### Interfaz Gráfica\n",
    "Se utiliza Tkinter para crear una interfaz gráfica que permite a los usuarios seleccionar archivos y ejecutar el procesamiento:"
   ]
  },
  {
   "cell_type": "code",
   "execution_count": 7,
   "metadata": {},
   "outputs": [],
   "source": [
    "\n",
    "# Crear ventana principal\n",
    "def open_file_dialog(status_text):\n",
    "    file_paths = filedialog.askopenfilenames(title=\"Seleccionar archivos\", filetypes=[(\"Todos los archivos\", \"*.*\")])\n",
    "    if file_paths:\n",
    "        process_files(file_paths, status_text)\n",
    "        messagebox.showinfo(\"Proceso completado\", \"Todos los archivos han sido procesados y guardados en la carpeta 'dataset'.\")\n",
    "        root.destroy()\n",
    "\n",
    "root = tk.Tk()\n",
    "root.title(\"Procesador de Archivos\")\n",
    "root.geometry(\"600x400\")\n",
    "\n",
    "# Botón para seleccionar archivos\n",
    "btn_select_files = tk.Button(root, text=\"Seleccionar Archivos\", command=lambda: open_file_dialog(status_text))\n",
    "btn_select_files.pack(pady=20)\n",
    "\n",
    "# Área de texto para mostrar el estado\n",
    "status_text = scrolledtext.ScrolledText(root, width=70, height=15)\n",
    "status_text.pack(pady=10)\n",
    "\n",
    "# Ejecutar la aplicación\n",
    "root.mainloop()"
   ]
  }
 ],
 "metadata": {
  "kernelspec": {
   "display_name": "Python 3",
   "language": "python",
   "name": "python3"
  },
  "language_info": {
   "codemirror_mode": {
    "name": "ipython",
    "version": 3
   },
   "file_extension": ".py",
   "mimetype": "text/x-python",
   "name": "python",
   "nbconvert_exporter": "python",
   "pygments_lexer": "ipython3",
   "version": "3.12.4"
  }
 },
 "nbformat": 4,
 "nbformat_minor": 2
}
