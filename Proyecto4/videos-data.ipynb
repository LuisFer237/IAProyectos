{
 "cells": [
  {
   "cell_type": "markdown",
   "metadata": {},
   "source": [
    "# Generador de resumenes de videos de youtube"
   ]
  },
  {
   "cell_type": "markdown",
   "metadata": {},
   "source": [
    "#### Cargar librerías necesarias"
   ]
  },
  {
   "cell_type": "code",
   "execution_count": null,
   "metadata": {},
   "outputs": [],
   "source": [
    "import os\n",
    "import csv\n",
    "import yt_dlp\n",
    "import openai\n",
    "import whisper\n",
    "import requests\n",
    "import json\n",
    "import re"
   ]
  },
  {
   "cell_type": "markdown",
   "metadata": {},
   "source": [
    "#### Configuración de rutas y parámetros, número de videos y directorios de salida\n",
    "Se configuran las rutas que se utilizarán, además se especifica la cantidad de videos que se van a tomar del csv y se crean los directorios de salida en caso de que no existan"
   ]
  },
  {
   "cell_type": "code",
   "execution_count": 1,
   "metadata": {},
   "outputs": [],
   "source": [
    "# Configuración de rutas y parámetros\n",
    "csv_file_path = r'Proyecto4\\YouTube Video List Scraper.csv'\n",
    "audio_output_dir = r'Proyecto4\\audios'\n",
    "text_output_dir = r'Proyecto4\\audios-texto'\n",
    "summary_output_dir = r'Proyecto4\\dataset'\n",
    "\n",
    "# Máximo de videos a procesar\n",
    "max_videos = 50\n",
    "\n",
    "# Crear los directorios de salida si no existen\n",
    "os.makedirs(audio_output_dir, exist_ok=True)\n",
    "os.makedirs(text_output_dir, exist_ok=True)\n",
    "os.makedirs(summary_output_dir, exist_ok=True)"
   ]
  },
  {
   "cell_type": "markdown",
   "metadata": {},
   "source": [
    "#### Función para sanitizar nombres de archivos\n",
    "Al hacer la petición al servidor de Llama había problemas con los nombres de los videos, así que hice que los nombres se limpiaran de caracteres especiales para evitar conflictos."
   ]
  },
  {
   "cell_type": "code",
   "execution_count": null,
   "metadata": {},
   "outputs": [],
   "source": [
    "def sanitize_filename(filename):\n",
    "    filename = re.sub(r'[\\\\/*?:\"<>|]', '_', filename)\n",
    "    filename = filename.replace(' ', '')\n",
    "    return filename"
   ]
  },
  {
   "cell_type": "markdown",
   "metadata": {},
   "source": [
    "#### Descargar el audio de un video de YouTube y transcribir audio a texto\n",
    "Con ayuda de yt_dlp se descargan los audios de los videos tomando los url de los videos"
   ]
  },
  {
   "cell_type": "code",
   "execution_count": null,
   "metadata": {},
   "outputs": [],
   "source": [
    "def download_audio(video_url, output_dir, sanitized_title):\n",
    "    ydl_opts = {\n",
    "        'format': 'bestaudio/best',\n",
    "        'outtmpl': os.path.join(output_dir, f'{sanitized_title}.%(ext)s'),\n",
    "        'postprocessors': [{\n",
    "            'key': 'FFmpegExtractAudio',\n",
    "            'preferredcodec': 'mp3',\n",
    "            'preferredquality': '192',\n",
    "        }],\n",
    "    }\n",
    "    with yt_dlp.YoutubeDL(ydl_opts) as ydl:\n",
    "        ydl.download([video_url])\n",
    "\n",
    "def transcribe_audio(file_path):\n",
    "    model = whisper.load_model(\"base\")\n",
    "    result = model.transcribe(file_path)\n",
    "    return result['text']"
   ]
  },
  {
   "cell_type": "markdown",
   "metadata": {},
   "source": [
    "#### Función para obtener sinopsis del servidor Llama\n"
   ]
  },
  {
   "cell_type": "code",
   "execution_count": null,
   "metadata": {},
   "outputs": [],
   "source": [
    "def get_synopsis_from_llama(text):\n",
    "    try:\n",
    "        url = \"http://localhost:1234/v1/completions\"\n",
    "        headers = {\"Content-Type\": \"application/json\"}\n",
    "        payload = {\n",
    "            \"model\": \"llama-3.2-1b-instruct\",\n",
    "            \"prompt\": f\"\"\"\n",
    "                A continuación, se presenta un documento que puede ser la transcripción de un video convertido a texto. Necesito un resumen detallado que contenga toda la información relevante y que sea claro y organizado\n",
    "\n",
    "                Resume los puntos clave discutidos en el video.\n",
    "                Proporciona un breve contexto para cada punto clave.\n",
    "                Incluye explícitamente información numérica o datos importantes si se mencionan.\n",
    "                Destaca conclusiones, opiniones o propuestas presentadas en el video.\n",
    "\n",
    "                Texto original:\n",
    "                {text}\n",
    "                Por favor, crea un resumen preciso y fácil de entender, toma en cuenta que se usara para entrenar a un modelo de lenguaje a traves de embeding.\n",
    "            \"\"\",\n",
    "            \"max_tokens\": 1000\n",
    "        }\n",
    "        print(\"Enviando solicitud al servidor Llama...\")\n",
    "        response = requests.post(url, headers=headers, data=json.dumps(payload))\n",
    "        response.raise_for_status()  # Verifica errores HTTP\n",
    "        response_data = response.json()\n",
    "        return response_data['choices'][0]['text']\n",
    "    except requests.exceptions.RequestException as e:\n",
    "        return f\"Error al conectar con el servidor Llama: {e}\""
   ]
  },
  {
   "cell_type": "markdown",
   "metadata": {},
   "source": [
    "#### Proceso principal del programa"
   ]
  },
  {
   "cell_type": "code",
   "execution_count": null,
   "metadata": {},
   "outputs": [],
   "source": [
    "# Leer el archivo CSV y procesar los primeros max_videos\n",
    "with open(csv_file_path, newline='', encoding='utf-8') as csvfile:\n",
    "    reader = csv.DictReader(csvfile)\n",
    "    rows = list(reader)\n",
    "\n",
    "videos_processed = 0\n",
    "for row in rows:\n",
    "    if videos_processed >= max_videos:\n",
    "        break\n",
    "    video_url = row['Video_Link']\n",
    "    \n",
    "    # Obtener el nombre del archivo descargado y limpiarlo\n",
    "    sanitized_title = sanitize_filename(row['Video_Title'].strip())\n",
    "    file_name = os.path.join(audio_output_dir, f\"{sanitized_title}.mp3\")\n",
    "    \n",
    "    print(f\"Descargando audio de {video_url}...\")\n",
    "    download_audio(video_url, audio_output_dir, sanitized_title)\n",
    "    \n",
    "    # Verificar si el archivo de audio se descargó correctamente\n",
    "    if os.path.exists(file_name):\n",
    "        print(f\"Transcribiendo audio de {file_name}...\")\n",
    "        text = transcribe_audio(file_name)\n",
    "        \n",
    "        # Guardar la transcripción en un archivo de texto y limpiarlo\n",
    "        output_file = os.path.join(text_output_dir, f\"{sanitized_title}_transcription.txt\")\n",
    "        with open(output_file, 'w', encoding='utf-8') as f:\n",
    "            f.write(text)\n",
    "        print(f\"Transcripción guardada en {output_file}\")\n",
    "        \n",
    "        # Obtener sinopsis del texto transcrito\n",
    "        print(f\"Obteniendo sinopsis de {output_file}...\")\n",
    "        synopsis = get_synopsis_from_llama(text)\n",
    "        \n",
    "        # Guardar la sinopsis en un archivo de texto y limpiarlo\n",
    "        summary_file = os.path.join(summary_output_dir, f\"{sanitized_title}_summary.txt\")\n",
    "        with open(summary_file, 'w', encoding='utf-8') as f:\n",
    "            f.write(synopsis)\n",
    "        print(f\"Sinopsis guardada en {summary_file}\")\n",
    "        \n",
    "        # Eliminar el registro del archivo CSV\n",
    "        rows.remove(row)\n",
    "        with open(csv_file_path, 'w', newline='', encoding='utf-8') as csvfile:\n",
    "            writer = csv.DictWriter(csvfile, fieldnames=row.keys())\n",
    "            writer.writeheader()\n",
    "            writer.writerows(rows)\n",
    "    else:\n",
    "        print(f\"Error: No se encontró el archivo de audio {file_name}\")\n",
    "    \n",
    "    videos_processed += 1\n"
   ]
  }
 ],
 "metadata": {
  "kernelspec": {
   "display_name": "Python 3",
   "language": "python",
   "name": "python3"
  },
  "language_info": {
   "codemirror_mode": {
    "name": "ipython",
    "version": 3
   },
   "file_extension": ".py",
   "mimetype": "text/x-python",
   "name": "python",
   "nbconvert_exporter": "python",
   "pygments_lexer": "ipython3",
   "version": "3.12.4"
  }
 },
 "nbformat": 4,
 "nbformat_minor": 2
}
