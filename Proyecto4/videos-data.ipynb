{
 "cells": [
  {
   "cell_type": "markdown",
   "metadata": {},
   "source": [
    "# Generador de resumenes de videos de youtube"
   ]
  },
  {
   "cell_type": "markdown",
   "metadata": {},
   "source": [
    "#### Cargar librerías necesarias"
   ]
  },
  {
   "cell_type": "code",
   "execution_count": 15,
   "metadata": {},
   "outputs": [],
   "source": [
    "import os\n",
    "import csv\n",
    "import yt_dlp\n",
    "import openai\n",
    "import whisper\n",
    "import requests\n",
    "import json\n",
    "import re"
   ]
  },
  {
   "cell_type": "markdown",
   "metadata": {},
   "source": [
    "#### Configuración de rutas y parámetros, número de videos y directorios de salida\n",
    "Se configuran las rutas que se utilizarán, además se especifica la cantidad de videos que se van a tomar del csv y se crean los directorios de salida en caso de que no existan"
   ]
  },
  {
   "cell_type": "code",
   "execution_count": 16,
   "metadata": {},
   "outputs": [],
   "source": [
    "# Configuración de rutas y parámetros\n",
    "csv_file_path = r'Organismos.csv'\n",
    "audio_output_dir = r'audios'\n",
    "text_output_dir = r'audios-texto'\n",
    "summary_output_dir = r'dataset'\n",
    "\n",
    "# Máximo de videos a procesar\n",
    "max_videos = 10\n",
    "\n",
    "# Crear los directorios de salida si no existen\n",
    "os.makedirs(audio_output_dir, exist_ok=True)\n",
    "os.makedirs(text_output_dir, exist_ok=True)\n",
    "os.makedirs(summary_output_dir, exist_ok=True)"
   ]
  },
  {
   "cell_type": "markdown",
   "metadata": {},
   "source": [
    "#### Función para sanitizar nombres de archivos\n",
    "Al hacer la petición al servidor de Llama había problemas con los nombres de los videos, así que hice que los nombres se limpiaran de caracteres especiales para evitar conflictos."
   ]
  },
  {
   "cell_type": "code",
   "execution_count": 17,
   "metadata": {},
   "outputs": [],
   "source": [
    "def sanitize_filename(filename):\n",
    "    filename = re.sub(r'[\\\\/*?:\"<>|]', '_', filename)\n",
    "    filename = filename.replace(' ', '')\n",
    "    return filename"
   ]
  },
  {
   "cell_type": "markdown",
   "metadata": {},
   "source": [
    "#### Descargar el audio de un video de YouTube y transcribir audio a texto\n",
    "Con ayuda de yt_dlp se descargan los audios de los videos tomando los url de los videos"
   ]
  },
  {
   "cell_type": "code",
   "execution_count": 18,
   "metadata": {},
   "outputs": [],
   "source": [
    "def download_audio(video_url, output_dir, sanitized_title):\n",
    "    ydl_opts = {\n",
    "        'format': 'bestaudio/best',\n",
    "        'outtmpl': os.path.join(output_dir, f'{sanitized_title}.%(ext)s'),\n",
    "        'postprocessors': [{\n",
    "            'key': 'FFmpegExtractAudio',\n",
    "            'preferredcodec': 'mp3',\n",
    "            'preferredquality': '192',\n",
    "        }],\n",
    "    }\n",
    "    with yt_dlp.YoutubeDL(ydl_opts) as ydl:\n",
    "        ydl.download([video_url])\n",
    "\n",
    "def transcribe_audio(file_path):\n",
    "    model = whisper.load_model(\"base\")\n",
    "    result = model.transcribe(file_path)\n",
    "    return result['text']"
   ]
  },
  {
   "cell_type": "markdown",
   "metadata": {},
   "source": [
    "#### Función para obtener sinopsis del servidor Llama\n"
   ]
  },
  {
   "cell_type": "code",
   "execution_count": 19,
   "metadata": {},
   "outputs": [],
   "source": [
    "def get_synopsis_from_llama(text):\n",
    "    try:\n",
    "        url = \"http://localhost:1234/v1/completions\"\n",
    "        headers = {\"Content-Type\": \"application/json\"}\n",
    "        payload = {\n",
    "            \"model\": \"llama-3.2-1b-instruct\",\n",
    "            \"prompt\": f\"\"\"\n",
    "                A continuación, se presenta un documento que puede ser la transcripción de un video convertido a texto. Necesito un resumen detallado que contenga toda la información relevante y que sea claro y organizado\n",
    "\n",
    "                Resume los puntos clave discutidos en el video.\n",
    "                Proporciona un breve contexto para cada punto clave.\n",
    "                Incluye explícitamente información numérica o datos importantes si se mencionan.\n",
    "                Destaca conclusiones, opiniones o propuestas presentadas en el video.\n",
    "\n",
    "                Texto original:\n",
    "                {text}\n",
    "                Por favor, crea un resumen preciso y fácil de entender, toma en cuenta que se usara para entrenar a un modelo de lenguaje a traves de embeding.\n",
    "            \"\"\",\n",
    "            \"max_tokens\": 1000\n",
    "        }\n",
    "        print(\"Enviando solicitud al servidor Llama...\")\n",
    "        response = requests.post(url, headers=headers, data=json.dumps(payload))\n",
    "        response.raise_for_status()  # Verifica errores HTTP\n",
    "        response_data = response.json()\n",
    "        return response_data['choices'][0]['text']\n",
    "    except requests.exceptions.RequestException as e:\n",
    "        return f\"Error al conectar con el servidor Llama: {e}\""
   ]
  },
  {
   "cell_type": "markdown",
   "metadata": {},
   "source": [
    "#### Proceso principal del programa\n",
    "Del archivo csv seleccionado arriba se extrae el URL del video, en este caso toma el numero máximo de videos que se configuró arriba.\n",
    "Luego obtiene el nombre del video y lo limpia, hace la transcripción con whisper, guarda el resumen que Llama proporciona y lo almacena en una archivo de texto.\n",
    "Para evitar duplicidad borra el registro del archivo csv y sigue con el siguiente hasta llegar al máximo de videos especificados"
   ]
  },
  {
   "cell_type": "code",
   "execution_count": 20,
   "metadata": {},
   "outputs": [
    {
     "name": "stdout",
     "output_type": "stream",
     "text": [
      "Descargando audio de https://www.youtube.com/watch?v=y5YGVJGjz5A&pp=ygUZcmVmb3JtYSBvcmdhbm9zIGF1dG9ub21vcw%3D%3D...\n",
      "[youtube] Extracting URL: https://www.youtube.com/watch?v=y5YGVJGjz5A&pp=ygUZcmVmb3JtYSBvcmdhbm9zIGF1dG9ub21vcw%3D%3D\n",
      "[youtube] y5YGVJGjz5A: Downloading webpage\n",
      "[youtube] y5YGVJGjz5A: Downloading ios player API JSON\n",
      "[youtube] y5YGVJGjz5A: Downloading mweb player API JSON\n",
      "[youtube] y5YGVJGjz5A: Downloading m3u8 information\n",
      "[info] y5YGVJGjz5A: Downloading 1 format(s): 251\n",
      "[download] Destination: audios\\Senadoapruebadesaparicióndesieteorganismosautónomosysuabsorciónporelgobiernofederal.webm\n",
      "[download] 100% of    1.87MiB in 00:00:00 at 2.37MiB/s   \n",
      "[ExtractAudio] Destination: audios\\Senadoapruebadesaparicióndesieteorganismosautónomosysuabsorciónporelgobiernofederal.mp3\n",
      "Deleting original file audios\\Senadoapruebadesaparicióndesieteorganismosautónomosysuabsorciónporelgobiernofederal.webm (pass -k to keep)\n",
      "Transcribiendo audio de audios\\Senadoapruebadesaparicióndesieteorganismosautónomosysuabsorciónporelgobiernofederal.mp3...\n"
     ]
    },
    {
     "name": "stderr",
     "output_type": "stream",
     "text": [
      "c:\\Users\\luis2\\AppData\\Local\\Programs\\Python\\Python312\\Lib\\site-packages\\whisper\\__init__.py:150: FutureWarning: You are using `torch.load` with `weights_only=False` (the current default value), which uses the default pickle module implicitly. It is possible to construct malicious pickle data which will execute arbitrary code during unpickling (See https://github.com/pytorch/pytorch/blob/main/SECURITY.md#untrusted-models for more details). In a future release, the default value for `weights_only` will be flipped to `True`. This limits the functions that could be executed during unpickling. Arbitrary objects will no longer be allowed to be loaded via this mode unless they are explicitly allowlisted by the user via `torch.serialization.add_safe_globals`. We recommend you start setting `weights_only=True` for any use case where you don't have full control of the loaded file. Please open an issue on GitHub for any issues related to this experimental feature.\n",
      "  checkpoint = torch.load(fp, map_location=device)\n",
      "c:\\Users\\luis2\\AppData\\Local\\Programs\\Python\\Python312\\Lib\\site-packages\\whisper\\transcribe.py:126: UserWarning: FP16 is not supported on CPU; using FP32 instead\n",
      "  warnings.warn(\"FP16 is not supported on CPU; using FP32 instead\")\n"
     ]
    },
    {
     "name": "stdout",
     "output_type": "stream",
     "text": [
      "Transcripción guardada en audios-texto\\Senadoapruebadesaparicióndesieteorganismosautónomosysuabsorciónporelgobiernofederal_transcription.txt\n",
      "Obteniendo sinopsis de audios-texto\\Senadoapruebadesaparicióndesieteorganismosautónomosysuabsorciónporelgobiernofederal_transcription.txt...\n",
      "Enviando solicitud al servidor Llama...\n",
      "Sinopsis guardada en dataset\\Senadoapruebadesaparicióndesieteorganismosautónomosysuabsorciónporelgobiernofederal_summary.txt\n",
      "Descargando audio de https://www.youtube.com/watch?v=-LBqNsA2qyc&pp=ygUZcmVmb3JtYSBvcmdhbm9zIGF1dG9ub21vcw%3D%3D...\n",
      "[youtube] Extracting URL: https://www.youtube.com/watch?v=-LBqNsA2qyc&pp=ygUZcmVmb3JtYSBvcmdhbm9zIGF1dG9ub21vcw%3D%3D\n",
      "[youtube] -LBqNsA2qyc: Downloading webpage\n",
      "[youtube] -LBqNsA2qyc: Downloading ios player API JSON\n",
      "[youtube] -LBqNsA2qyc: Downloading mweb player API JSON\n",
      "[youtube] -LBqNsA2qyc: Downloading m3u8 information\n",
      "[info] -LBqNsA2qyc: Downloading 1 format(s): 251\n",
      "[download] Destination: audios\\Avalanlaextincióndesieteórganosautónomos_CiroGómezLeyva.webm\n",
      "[download] 100% of  748.75KiB in 00:00:00 at 4.35MiB/s   \n",
      "[ExtractAudio] Destination: audios\\Avalanlaextincióndesieteórganosautónomos_CiroGómezLeyva.mp3\n",
      "Deleting original file audios\\Avalanlaextincióndesieteórganosautónomos_CiroGómezLeyva.webm (pass -k to keep)\n",
      "Transcribiendo audio de audios\\Avalanlaextincióndesieteórganosautónomos_CiroGómezLeyva.mp3...\n"
     ]
    },
    {
     "name": "stderr",
     "output_type": "stream",
     "text": [
      "c:\\Users\\luis2\\AppData\\Local\\Programs\\Python\\Python312\\Lib\\site-packages\\whisper\\__init__.py:150: FutureWarning: You are using `torch.load` with `weights_only=False` (the current default value), which uses the default pickle module implicitly. It is possible to construct malicious pickle data which will execute arbitrary code during unpickling (See https://github.com/pytorch/pytorch/blob/main/SECURITY.md#untrusted-models for more details). In a future release, the default value for `weights_only` will be flipped to `True`. This limits the functions that could be executed during unpickling. Arbitrary objects will no longer be allowed to be loaded via this mode unless they are explicitly allowlisted by the user via `torch.serialization.add_safe_globals`. We recommend you start setting `weights_only=True` for any use case where you don't have full control of the loaded file. Please open an issue on GitHub for any issues related to this experimental feature.\n",
      "  checkpoint = torch.load(fp, map_location=device)\n",
      "c:\\Users\\luis2\\AppData\\Local\\Programs\\Python\\Python312\\Lib\\site-packages\\whisper\\transcribe.py:126: UserWarning: FP16 is not supported on CPU; using FP32 instead\n",
      "  warnings.warn(\"FP16 is not supported on CPU; using FP32 instead\")\n"
     ]
    },
    {
     "name": "stdout",
     "output_type": "stream",
     "text": [
      "Transcripción guardada en audios-texto\\Avalanlaextincióndesieteórganosautónomos_CiroGómezLeyva_transcription.txt\n",
      "Obteniendo sinopsis de audios-texto\\Avalanlaextincióndesieteórganosautónomos_CiroGómezLeyva_transcription.txt...\n",
      "Enviando solicitud al servidor Llama...\n",
      "Sinopsis guardada en dataset\\Avalanlaextincióndesieteórganosautónomos_CiroGómezLeyva_summary.txt\n",
      "Descargando audio de https://www.youtube.com/watch?v=0TJEfKJwNkI&pp=ygUZcmVmb3JtYSBvcmdhbm9zIGF1dG9ub21vcw%3D%3D...\n",
      "[youtube] Extracting URL: https://www.youtube.com/watch?v=0TJEfKJwNkI&pp=ygUZcmVmb3JtYSBvcmdhbm9zIGF1dG9ub21vcw%3D%3D\n",
      "[youtube] 0TJEfKJwNkI: Downloading webpage\n",
      "[youtube] 0TJEfKJwNkI: Downloading ios player API JSON\n",
      "[youtube] 0TJEfKJwNkI: Downloading mweb player API JSON\n",
      "[youtube] 0TJEfKJwNkI: Downloading m3u8 information\n",
      "[info] 0TJEfKJwNkI: Downloading 1 format(s): 251\n",
      "[download] Destination: audios\\SenadoAPRUEBAlaextinciónde7órganosautónomos.webm\n",
      "[download] 100% of    2.70MiB in 00:00:00 at 3.39MiB/s   \n",
      "[ExtractAudio] Destination: audios\\SenadoAPRUEBAlaextinciónde7órganosautónomos.mp3\n",
      "Deleting original file audios\\SenadoAPRUEBAlaextinciónde7órganosautónomos.webm (pass -k to keep)\n",
      "Transcribiendo audio de audios\\SenadoAPRUEBAlaextinciónde7órganosautónomos.mp3...\n"
     ]
    },
    {
     "name": "stderr",
     "output_type": "stream",
     "text": [
      "c:\\Users\\luis2\\AppData\\Local\\Programs\\Python\\Python312\\Lib\\site-packages\\whisper\\__init__.py:150: FutureWarning: You are using `torch.load` with `weights_only=False` (the current default value), which uses the default pickle module implicitly. It is possible to construct malicious pickle data which will execute arbitrary code during unpickling (See https://github.com/pytorch/pytorch/blob/main/SECURITY.md#untrusted-models for more details). In a future release, the default value for `weights_only` will be flipped to `True`. This limits the functions that could be executed during unpickling. Arbitrary objects will no longer be allowed to be loaded via this mode unless they are explicitly allowlisted by the user via `torch.serialization.add_safe_globals`. We recommend you start setting `weights_only=True` for any use case where you don't have full control of the loaded file. Please open an issue on GitHub for any issues related to this experimental feature.\n",
      "  checkpoint = torch.load(fp, map_location=device)\n",
      "c:\\Users\\luis2\\AppData\\Local\\Programs\\Python\\Python312\\Lib\\site-packages\\whisper\\transcribe.py:126: UserWarning: FP16 is not supported on CPU; using FP32 instead\n",
      "  warnings.warn(\"FP16 is not supported on CPU; using FP32 instead\")\n"
     ]
    },
    {
     "name": "stdout",
     "output_type": "stream",
     "text": [
      "Transcripción guardada en audios-texto\\SenadoAPRUEBAlaextinciónde7órganosautónomos_transcription.txt\n",
      "Obteniendo sinopsis de audios-texto\\SenadoAPRUEBAlaextinciónde7órganosautónomos_transcription.txt...\n",
      "Enviando solicitud al servidor Llama...\n",
      "Sinopsis guardada en dataset\\SenadoAPRUEBAlaextinciónde7órganosautónomos_summary.txt\n",
      "Descargando audio de https://www.youtube.com/watch?v=KVpkYMlNfUk&pp=ygUZcmVmb3JtYSBvcmdhbm9zIGF1dG9ub21vcw%3D%3D...\n",
      "[youtube] Extracting URL: https://www.youtube.com/watch?v=KVpkYMlNfUk&pp=ygUZcmVmb3JtYSBvcmdhbm9zIGF1dG9ub21vcw%3D%3D\n",
      "[youtube] KVpkYMlNfUk: Downloading webpage\n",
      "[youtube] KVpkYMlNfUk: Downloading ios player API JSON\n",
      "[youtube] KVpkYMlNfUk: Downloading mweb player API JSON\n",
      "[youtube] KVpkYMlNfUk: Downloading m3u8 information\n",
      "[info] KVpkYMlNfUk: Downloading 1 format(s): 251\n",
      "[download] Destination: audios\\⭕DiputadosavalanreformaalPoderJudicialenlogeneral_Organismosautónomosquedesaparecerían.webm\n",
      "[download] 100% of    5.54MiB in 00:00:00 at 7.39MiB/s   \n",
      "[ExtractAudio] Destination: audios\\⭕DiputadosavalanreformaalPoderJudicialenlogeneral_Organismosautónomosquedesaparecerían.mp3\n",
      "Deleting original file audios\\⭕DiputadosavalanreformaalPoderJudicialenlogeneral_Organismosautónomosquedesaparecerían.webm (pass -k to keep)\n",
      "Transcribiendo audio de audios\\⭕DiputadosavalanreformaalPoderJudicialenlogeneral_Organismosautónomosquedesaparecerían.mp3...\n"
     ]
    },
    {
     "name": "stderr",
     "output_type": "stream",
     "text": [
      "c:\\Users\\luis2\\AppData\\Local\\Programs\\Python\\Python312\\Lib\\site-packages\\whisper\\__init__.py:150: FutureWarning: You are using `torch.load` with `weights_only=False` (the current default value), which uses the default pickle module implicitly. It is possible to construct malicious pickle data which will execute arbitrary code during unpickling (See https://github.com/pytorch/pytorch/blob/main/SECURITY.md#untrusted-models for more details). In a future release, the default value for `weights_only` will be flipped to `True`. This limits the functions that could be executed during unpickling. Arbitrary objects will no longer be allowed to be loaded via this mode unless they are explicitly allowlisted by the user via `torch.serialization.add_safe_globals`. We recommend you start setting `weights_only=True` for any use case where you don't have full control of the loaded file. Please open an issue on GitHub for any issues related to this experimental feature.\n",
      "  checkpoint = torch.load(fp, map_location=device)\n",
      "c:\\Users\\luis2\\AppData\\Local\\Programs\\Python\\Python312\\Lib\\site-packages\\whisper\\transcribe.py:126: UserWarning: FP16 is not supported on CPU; using FP32 instead\n",
      "  warnings.warn(\"FP16 is not supported on CPU; using FP32 instead\")\n"
     ]
    },
    {
     "name": "stdout",
     "output_type": "stream",
     "text": [
      "Transcripción guardada en audios-texto\\⭕DiputadosavalanreformaalPoderJudicialenlogeneral_Organismosautónomosquedesaparecerían_transcription.txt\n",
      "Obteniendo sinopsis de audios-texto\\⭕DiputadosavalanreformaalPoderJudicialenlogeneral_Organismosautónomosquedesaparecerían_transcription.txt...\n",
      "Enviando solicitud al servidor Llama...\n",
      "Sinopsis guardada en dataset\\⭕DiputadosavalanreformaalPoderJudicialenlogeneral_Organismosautónomosquedesaparecerían_summary.txt\n",
      "Descargando audio de https://www.youtube.com/watch?v=YjQEESph1Uo&pp=ygUZcmVmb3JtYSBvcmdhbm9zIGF1dG9ub21vcw%3D%3D...\n",
      "[youtube] Extracting URL: https://www.youtube.com/watch?v=YjQEESph1Uo&pp=ygUZcmVmb3JtYSBvcmdhbm9zIGF1dG9ub21vcw%3D%3D\n",
      "[youtube] YjQEESph1Uo: Downloading webpage\n",
      "[youtube] YjQEESph1Uo: Downloading ios player API JSON\n",
      "[youtube] YjQEESph1Uo: Downloading mweb player API JSON\n",
      "[youtube] YjQEESph1Uo: Downloading m3u8 information\n",
      "[info] YjQEESph1Uo: Downloading 1 format(s): 251\n",
      "[download] Destination: audios\\Diputadosapruebandesapariciónde7órganosautónomos.webm\n",
      "[download] 100% of    3.17MiB in 00:00:00 at 4.12MiB/s   \n",
      "[ExtractAudio] Destination: audios\\Diputadosapruebandesapariciónde7órganosautónomos.mp3\n",
      "Deleting original file audios\\Diputadosapruebandesapariciónde7órganosautónomos.webm (pass -k to keep)\n",
      "Transcribiendo audio de audios\\Diputadosapruebandesapariciónde7órganosautónomos.mp3...\n"
     ]
    },
    {
     "name": "stderr",
     "output_type": "stream",
     "text": [
      "c:\\Users\\luis2\\AppData\\Local\\Programs\\Python\\Python312\\Lib\\site-packages\\whisper\\__init__.py:150: FutureWarning: You are using `torch.load` with `weights_only=False` (the current default value), which uses the default pickle module implicitly. It is possible to construct malicious pickle data which will execute arbitrary code during unpickling (See https://github.com/pytorch/pytorch/blob/main/SECURITY.md#untrusted-models for more details). In a future release, the default value for `weights_only` will be flipped to `True`. This limits the functions that could be executed during unpickling. Arbitrary objects will no longer be allowed to be loaded via this mode unless they are explicitly allowlisted by the user via `torch.serialization.add_safe_globals`. We recommend you start setting `weights_only=True` for any use case where you don't have full control of the loaded file. Please open an issue on GitHub for any issues related to this experimental feature.\n",
      "  checkpoint = torch.load(fp, map_location=device)\n",
      "c:\\Users\\luis2\\AppData\\Local\\Programs\\Python\\Python312\\Lib\\site-packages\\whisper\\transcribe.py:126: UserWarning: FP16 is not supported on CPU; using FP32 instead\n",
      "  warnings.warn(\"FP16 is not supported on CPU; using FP32 instead\")\n"
     ]
    },
    {
     "name": "stdout",
     "output_type": "stream",
     "text": [
      "Transcripción guardada en audios-texto\\Diputadosapruebandesapariciónde7órganosautónomos_transcription.txt\n",
      "Obteniendo sinopsis de audios-texto\\Diputadosapruebandesapariciónde7órganosautónomos_transcription.txt...\n",
      "Enviando solicitud al servidor Llama...\n",
      "Sinopsis guardada en dataset\\Diputadosapruebandesapariciónde7órganosautónomos_summary.txt\n",
      "Descargando audio de https://www.youtube.com/watch?v=f_-sz8uE8Uw&pp=ygUZcmVmb3JtYSBvcmdhbm9zIGF1dG9ub21vcw%3D%3D...\n",
      "[youtube] Extracting URL: https://www.youtube.com/watch?v=f_-sz8uE8Uw&pp=ygUZcmVmb3JtYSBvcmdhbm9zIGF1dG9ub21vcw%3D%3D\n",
      "[youtube] f_-sz8uE8Uw: Downloading webpage\n",
      "[youtube] f_-sz8uE8Uw: Downloading ios player API JSON\n",
      "[youtube] f_-sz8uE8Uw: Downloading mweb player API JSON\n",
      "[youtube] f_-sz8uE8Uw: Downloading m3u8 information\n",
      "[info] f_-sz8uE8Uw: Downloading 1 format(s): 251\n",
      "[download] Destination: audios\\Reformabuscaeliminarsieteórganosautónomosygeneracontroversia.webm\n",
      "[download] 100% of    7.71MiB in 00:00:00 at 9.42MiB/s   \n",
      "[ExtractAudio] Destination: audios\\Reformabuscaeliminarsieteórganosautónomosygeneracontroversia.mp3\n",
      "Deleting original file audios\\Reformabuscaeliminarsieteórganosautónomosygeneracontroversia.webm (pass -k to keep)\n",
      "Transcribiendo audio de audios\\Reformabuscaeliminarsieteórganosautónomosygeneracontroversia.mp3...\n"
     ]
    },
    {
     "name": "stderr",
     "output_type": "stream",
     "text": [
      "c:\\Users\\luis2\\AppData\\Local\\Programs\\Python\\Python312\\Lib\\site-packages\\whisper\\__init__.py:150: FutureWarning: You are using `torch.load` with `weights_only=False` (the current default value), which uses the default pickle module implicitly. It is possible to construct malicious pickle data which will execute arbitrary code during unpickling (See https://github.com/pytorch/pytorch/blob/main/SECURITY.md#untrusted-models for more details). In a future release, the default value for `weights_only` will be flipped to `True`. This limits the functions that could be executed during unpickling. Arbitrary objects will no longer be allowed to be loaded via this mode unless they are explicitly allowlisted by the user via `torch.serialization.add_safe_globals`. We recommend you start setting `weights_only=True` for any use case where you don't have full control of the loaded file. Please open an issue on GitHub for any issues related to this experimental feature.\n",
      "  checkpoint = torch.load(fp, map_location=device)\n",
      "c:\\Users\\luis2\\AppData\\Local\\Programs\\Python\\Python312\\Lib\\site-packages\\whisper\\transcribe.py:126: UserWarning: FP16 is not supported on CPU; using FP32 instead\n",
      "  warnings.warn(\"FP16 is not supported on CPU; using FP32 instead\")\n"
     ]
    },
    {
     "name": "stdout",
     "output_type": "stream",
     "text": [
      "Transcripción guardada en audios-texto\\Reformabuscaeliminarsieteórganosautónomosygeneracontroversia_transcription.txt\n",
      "Obteniendo sinopsis de audios-texto\\Reformabuscaeliminarsieteórganosautónomosygeneracontroversia_transcription.txt...\n",
      "Enviando solicitud al servidor Llama...\n",
      "Sinopsis guardada en dataset\\Reformabuscaeliminarsieteórganosautónomosygeneracontroversia_summary.txt\n",
      "Descargando audio de https://www.youtube.com/shorts/RFZB4iyKjgI...\n",
      "[youtube] Extracting URL: https://www.youtube.com/shorts/RFZB4iyKjgI\n",
      "[youtube] RFZB4iyKjgI: Downloading webpage\n",
      "[youtube] RFZB4iyKjgI: Downloading ios player API JSON\n",
      "[youtube] RFZB4iyKjgI: Downloading mweb player API JSON\n",
      "[youtube] RFZB4iyKjgI: Downloading m3u8 information\n",
      "[info] RFZB4iyKjgI: Downloading 1 format(s): 251\n",
      "[download] Destination: audios\\#Loret.Morenayaliadosalistanreformaparadesapareceralosorganismosautónomos.#Latinus.webm\n",
      "[download] 100% of  742.43KiB in 00:00:00 at 907.77KiB/s \n",
      "[ExtractAudio] Destination: audios\\#Loret.Morenayaliadosalistanreformaparadesapareceralosorganismosautónomos.#Latinus.mp3\n",
      "Deleting original file audios\\#Loret.Morenayaliadosalistanreformaparadesapareceralosorganismosautónomos.#Latinus.webm (pass -k to keep)\n",
      "Transcribiendo audio de audios\\#Loret.Morenayaliadosalistanreformaparadesapareceralosorganismosautónomos.#Latinus.mp3...\n"
     ]
    },
    {
     "name": "stderr",
     "output_type": "stream",
     "text": [
      "c:\\Users\\luis2\\AppData\\Local\\Programs\\Python\\Python312\\Lib\\site-packages\\whisper\\__init__.py:150: FutureWarning: You are using `torch.load` with `weights_only=False` (the current default value), which uses the default pickle module implicitly. It is possible to construct malicious pickle data which will execute arbitrary code during unpickling (See https://github.com/pytorch/pytorch/blob/main/SECURITY.md#untrusted-models for more details). In a future release, the default value for `weights_only` will be flipped to `True`. This limits the functions that could be executed during unpickling. Arbitrary objects will no longer be allowed to be loaded via this mode unless they are explicitly allowlisted by the user via `torch.serialization.add_safe_globals`. We recommend you start setting `weights_only=True` for any use case where you don't have full control of the loaded file. Please open an issue on GitHub for any issues related to this experimental feature.\n",
      "  checkpoint = torch.load(fp, map_location=device)\n",
      "c:\\Users\\luis2\\AppData\\Local\\Programs\\Python\\Python312\\Lib\\site-packages\\whisper\\transcribe.py:126: UserWarning: FP16 is not supported on CPU; using FP32 instead\n",
      "  warnings.warn(\"FP16 is not supported on CPU; using FP32 instead\")\n"
     ]
    },
    {
     "name": "stdout",
     "output_type": "stream",
     "text": [
      "Transcripción guardada en audios-texto\\#Loret.Morenayaliadosalistanreformaparadesapareceralosorganismosautónomos.#Latinus_transcription.txt\n",
      "Obteniendo sinopsis de audios-texto\\#Loret.Morenayaliadosalistanreformaparadesapareceralosorganismosautónomos.#Latinus_transcription.txt...\n",
      "Enviando solicitud al servidor Llama...\n",
      "Sinopsis guardada en dataset\\#Loret.Morenayaliadosalistanreformaparadesapareceralosorganismosautónomos.#Latinus_summary.txt\n",
      "Descargando audio de https://www.youtube.com/watch?v=shukLwyfDhw&pp=ygUZcmVmb3JtYSBvcmdhbm9zIGF1dG9ub21vcw%3D%3D...\n",
      "[youtube] Extracting URL: https://www.youtube.com/watch?v=shukLwyfDhw&pp=ygUZcmVmb3JtYSBvcmdhbm9zIGF1dG9ub21vcw%3D%3D\n",
      "[youtube] shukLwyfDhw: Downloading webpage\n",
      "[youtube] shukLwyfDhw: Downloading ios player API JSON\n",
      "[youtube] shukLwyfDhw: Downloading mweb player API JSON\n",
      "[youtube] shukLwyfDhw: Downloading m3u8 information\n",
      "[info] shukLwyfDhw: Downloading 1 format(s): 251\n",
      "[download] Destination: audios\\IFTcalificacomo'retroceso'reformaparadesaparecerórganosautónomos.webm\n",
      "[download] 100% of    8.91MiB in 00:00:01 at 4.64MiB/s   \n",
      "[ExtractAudio] Destination: audios\\IFTcalificacomo'retroceso'reformaparadesaparecerórganosautónomos.mp3\n",
      "Deleting original file audios\\IFTcalificacomo'retroceso'reformaparadesaparecerórganosautónomos.webm (pass -k to keep)\n",
      "Transcribiendo audio de audios\\IFTcalificacomo'retroceso'reformaparadesaparecerórganosautónomos.mp3...\n"
     ]
    },
    {
     "name": "stderr",
     "output_type": "stream",
     "text": [
      "c:\\Users\\luis2\\AppData\\Local\\Programs\\Python\\Python312\\Lib\\site-packages\\whisper\\__init__.py:150: FutureWarning: You are using `torch.load` with `weights_only=False` (the current default value), which uses the default pickle module implicitly. It is possible to construct malicious pickle data which will execute arbitrary code during unpickling (See https://github.com/pytorch/pytorch/blob/main/SECURITY.md#untrusted-models for more details). In a future release, the default value for `weights_only` will be flipped to `True`. This limits the functions that could be executed during unpickling. Arbitrary objects will no longer be allowed to be loaded via this mode unless they are explicitly allowlisted by the user via `torch.serialization.add_safe_globals`. We recommend you start setting `weights_only=True` for any use case where you don't have full control of the loaded file. Please open an issue on GitHub for any issues related to this experimental feature.\n",
      "  checkpoint = torch.load(fp, map_location=device)\n",
      "c:\\Users\\luis2\\AppData\\Local\\Programs\\Python\\Python312\\Lib\\site-packages\\whisper\\transcribe.py:126: UserWarning: FP16 is not supported on CPU; using FP32 instead\n",
      "  warnings.warn(\"FP16 is not supported on CPU; using FP32 instead\")\n"
     ]
    },
    {
     "name": "stdout",
     "output_type": "stream",
     "text": [
      "Transcripción guardada en audios-texto\\IFTcalificacomo'retroceso'reformaparadesaparecerórganosautónomos_transcription.txt\n",
      "Obteniendo sinopsis de audios-texto\\IFTcalificacomo'retroceso'reformaparadesaparecerórganosautónomos_transcription.txt...\n",
      "Enviando solicitud al servidor Llama...\n",
      "Sinopsis guardada en dataset\\IFTcalificacomo'retroceso'reformaparadesaparecerórganosautónomos_summary.txt\n",
      "Descargando audio de https://www.youtube.com/watch?v=yjn3mmotPS4&pp=ygUZcmVmb3JtYSBvcmdhbm9zIGF1dG9ub21vcw%3D%3D...\n",
      "[youtube] Extracting URL: https://www.youtube.com/watch?v=yjn3mmotPS4&pp=ygUZcmVmb3JtYSBvcmdhbm9zIGF1dG9ub21vcw%3D%3D\n",
      "[youtube] yjn3mmotPS4: Downloading webpage\n",
      "[youtube] yjn3mmotPS4: Downloading ios player API JSON\n",
      "[youtube] yjn3mmotPS4: Downloading mweb player API JSON\n",
      "[youtube] yjn3mmotPS4: Downloading m3u8 information\n",
      "[info] yjn3mmotPS4: Downloading 1 format(s): 251\n",
      "[download] Destination: audios\\Desaparecerlosórganosautónomos_PropuestadelPresidente.webm\n",
      "[download] 100% of   46.28MiB in 00:00:11 at 4.12MiB/s     \n",
      "[ExtractAudio] Destination: audios\\Desaparecerlosórganosautónomos_PropuestadelPresidente.mp3\n",
      "Deleting original file audios\\Desaparecerlosórganosautónomos_PropuestadelPresidente.webm (pass -k to keep)\n",
      "Transcribiendo audio de audios\\Desaparecerlosórganosautónomos_PropuestadelPresidente.mp3...\n"
     ]
    },
    {
     "name": "stderr",
     "output_type": "stream",
     "text": [
      "c:\\Users\\luis2\\AppData\\Local\\Programs\\Python\\Python312\\Lib\\site-packages\\whisper\\__init__.py:150: FutureWarning: You are using `torch.load` with `weights_only=False` (the current default value), which uses the default pickle module implicitly. It is possible to construct malicious pickle data which will execute arbitrary code during unpickling (See https://github.com/pytorch/pytorch/blob/main/SECURITY.md#untrusted-models for more details). In a future release, the default value for `weights_only` will be flipped to `True`. This limits the functions that could be executed during unpickling. Arbitrary objects will no longer be allowed to be loaded via this mode unless they are explicitly allowlisted by the user via `torch.serialization.add_safe_globals`. We recommend you start setting `weights_only=True` for any use case where you don't have full control of the loaded file. Please open an issue on GitHub for any issues related to this experimental feature.\n",
      "  checkpoint = torch.load(fp, map_location=device)\n",
      "c:\\Users\\luis2\\AppData\\Local\\Programs\\Python\\Python312\\Lib\\site-packages\\whisper\\transcribe.py:126: UserWarning: FP16 is not supported on CPU; using FP32 instead\n",
      "  warnings.warn(\"FP16 is not supported on CPU; using FP32 instead\")\n"
     ]
    },
    {
     "name": "stdout",
     "output_type": "stream",
     "text": [
      "Transcripción guardada en audios-texto\\Desaparecerlosórganosautónomos_PropuestadelPresidente_transcription.txt\n",
      "Obteniendo sinopsis de audios-texto\\Desaparecerlosórganosautónomos_PropuestadelPresidente_transcription.txt...\n",
      "Enviando solicitud al servidor Llama...\n",
      "Sinopsis guardada en dataset\\Desaparecerlosórganosautónomos_PropuestadelPresidente_summary.txt\n",
      "Descargando audio de https://www.youtube.com/watch?v=y8SxooSk27U&pp=ygUZcmVmb3JtYSBvcmdhbm9zIGF1dG9ub21vcw%3D%3D...\n",
      "[youtube] Extracting URL: https://www.youtube.com/watch?v=y8SxooSk27U&pp=ygUZcmVmb3JtYSBvcmdhbm9zIGF1dG9ub21vcw%3D%3D\n",
      "[youtube] y8SxooSk27U: Downloading webpage\n",
      "[youtube] y8SxooSk27U: Downloading ios player API JSON\n",
      "[youtube] y8SxooSk27U: Downloading mweb player API JSON\n",
      "[youtube] y8SxooSk27U: Downloading m3u8 information\n",
      "[info] y8SxooSk27U: Downloading 1 format(s): 251\n",
      "[download] Destination: audios\\Losprosycontrasdelosorganismosautónomos¿Esbuenaideaeliminarlos_.webm\n",
      "[download] 100% of    2.86MiB in 00:00:01 at 2.57MiB/s   \n",
      "[ExtractAudio] Destination: audios\\Losprosycontrasdelosorganismosautónomos¿Esbuenaideaeliminarlos_.mp3\n",
      "Deleting original file audios\\Losprosycontrasdelosorganismosautónomos¿Esbuenaideaeliminarlos_.webm (pass -k to keep)\n",
      "Transcribiendo audio de audios\\Losprosycontrasdelosorganismosautónomos¿Esbuenaideaeliminarlos_.mp3...\n"
     ]
    },
    {
     "name": "stderr",
     "output_type": "stream",
     "text": [
      "c:\\Users\\luis2\\AppData\\Local\\Programs\\Python\\Python312\\Lib\\site-packages\\whisper\\__init__.py:150: FutureWarning: You are using `torch.load` with `weights_only=False` (the current default value), which uses the default pickle module implicitly. It is possible to construct malicious pickle data which will execute arbitrary code during unpickling (See https://github.com/pytorch/pytorch/blob/main/SECURITY.md#untrusted-models for more details). In a future release, the default value for `weights_only` will be flipped to `True`. This limits the functions that could be executed during unpickling. Arbitrary objects will no longer be allowed to be loaded via this mode unless they are explicitly allowlisted by the user via `torch.serialization.add_safe_globals`. We recommend you start setting `weights_only=True` for any use case where you don't have full control of the loaded file. Please open an issue on GitHub for any issues related to this experimental feature.\n",
      "  checkpoint = torch.load(fp, map_location=device)\n",
      "c:\\Users\\luis2\\AppData\\Local\\Programs\\Python\\Python312\\Lib\\site-packages\\whisper\\transcribe.py:126: UserWarning: FP16 is not supported on CPU; using FP32 instead\n",
      "  warnings.warn(\"FP16 is not supported on CPU; using FP32 instead\")\n"
     ]
    },
    {
     "name": "stdout",
     "output_type": "stream",
     "text": [
      "Transcripción guardada en audios-texto\\Losprosycontrasdelosorganismosautónomos¿Esbuenaideaeliminarlos__transcription.txt\n",
      "Obteniendo sinopsis de audios-texto\\Losprosycontrasdelosorganismosautónomos¿Esbuenaideaeliminarlos__transcription.txt...\n",
      "Enviando solicitud al servidor Llama...\n",
      "Sinopsis guardada en dataset\\Losprosycontrasdelosorganismosautónomos¿Esbuenaideaeliminarlos__summary.txt\n"
     ]
    }
   ],
   "source": [
    "# Leer el archivo CSV y procesar los primeros max_videos\n",
    "with open(csv_file_path, newline='', encoding='utf-8') as csvfile:\n",
    "    reader = csv.DictReader(csvfile)\n",
    "    rows = list(reader)\n",
    "\n",
    "videos_processed = 0\n",
    "for row in rows:\n",
    "    if videos_processed >= max_videos:\n",
    "        break\n",
    "    video_url = row['Video_Link']\n",
    "    \n",
    "    # Obtener el nombre del archivo descargado y limpiarlo\n",
    "    sanitized_title = sanitize_filename(row['Video_Title'].strip())\n",
    "    file_name = os.path.join(audio_output_dir, f\"{sanitized_title}.mp3\")\n",
    "    \n",
    "    print(f\"Descargando audio de {video_url}...\")\n",
    "    download_audio(video_url, audio_output_dir, sanitized_title)\n",
    "    \n",
    "    # Verificar si el archivo de audio se descargó correctamente\n",
    "    if os.path.exists(file_name):\n",
    "        print(f\"Transcribiendo audio de {file_name}...\")\n",
    "        text = transcribe_audio(file_name)\n",
    "        \n",
    "        # Guardar la transcripción en un archivo de texto y limpiarlo\n",
    "        output_file = os.path.join(text_output_dir, f\"{sanitized_title}_transcription.txt\")\n",
    "        with open(output_file, 'w', encoding='utf-8') as f:\n",
    "            f.write(text)\n",
    "        print(f\"Transcripción guardada en {output_file}\")\n",
    "        \n",
    "        # Obtener sinopsis del texto transcrito\n",
    "        print(f\"Obteniendo sinopsis de {output_file}...\")\n",
    "        synopsis = get_synopsis_from_llama(text)\n",
    "        \n",
    "        # Guardar la sinopsis en un archivo de texto y limpiarlo\n",
    "        summary_file = os.path.join(summary_output_dir, f\"{sanitized_title}_summary.txt\")\n",
    "        with open(summary_file, 'w', encoding='utf-8') as f:\n",
    "            f.write(synopsis)\n",
    "        print(f\"Sinopsis guardada en {summary_file}\")\n",
    "        \n",
    "        # Eliminar el registro del archivo CSV\n",
    "        rows.remove(row)\n",
    "        with open(csv_file_path, 'w', newline='', encoding='utf-8') as csvfile:\n",
    "            writer = csv.DictWriter(csvfile, fieldnames=row.keys())\n",
    "            writer.writeheader()\n",
    "            writer.writerows(rows)\n",
    "    else:\n",
    "        print(f\"Error: No se encontró el archivo de audio {file_name}\")\n",
    "    \n",
    "    videos_processed += 1\n"
   ]
  }
 ],
 "metadata": {
  "kernelspec": {
   "display_name": "Python 3",
   "language": "python",
   "name": "python3"
  },
  "language_info": {
   "codemirror_mode": {
    "name": "ipython",
    "version": 3
   },
   "file_extension": ".py",
   "mimetype": "text/x-python",
   "name": "python",
   "nbconvert_exporter": "python",
   "pygments_lexer": "ipython3",
   "version": "3.12.4"
  }
 },
 "nbformat": 4,
 "nbformat_minor": 2
}
