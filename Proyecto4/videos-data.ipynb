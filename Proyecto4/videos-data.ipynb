{
 "cells": [
  {
   "cell_type": "markdown",
   "metadata": {},
   "source": [
    "# Generador de resumenes de videos de youtube"
   ]
  },
  {
   "cell_type": "markdown",
   "metadata": {},
   "source": [
    "#### Cargar librerías necesarias"
   ]
  },
  {
   "cell_type": "code",
   "execution_count": 1,
   "metadata": {},
   "outputs": [],
   "source": [
    "import os\n",
    "import csv\n",
    "import yt_dlp\n",
    "import openai\n",
    "import whisper\n",
    "import requests\n",
    "import json\n",
    "import re"
   ]
  },
  {
   "cell_type": "markdown",
   "metadata": {},
   "source": [
    "#### Configuración de rutas y parámetros, número de videos y directorios de salida\n",
    "Se configuran las rutas que se utilizarán, además se especifica la cantidad de videos que se van a tomar del csv y se crean los directorios de salida en caso de que no existan"
   ]
  },
  {
   "cell_type": "code",
   "execution_count": 2,
   "metadata": {},
   "outputs": [],
   "source": [
    "# Configuración de rutas y parámetros\n",
    "csv_file_path = r'Judicial.csv'\n",
    "audio_output_dir = r'audios'\n",
    "text_output_dir = r'audios-texto'\n",
    "summary_output_dir = r'dataset'\n",
    "\n",
    "# Máximo de videos a procesar\n",
    "max_videos = 50\n",
    "\n",
    "# Crear los directorios de salida si no existen\n",
    "os.makedirs(audio_output_dir, exist_ok=True)\n",
    "os.makedirs(text_output_dir, exist_ok=True)\n",
    "os.makedirs(summary_output_dir, exist_ok=True)"
   ]
  },
  {
   "cell_type": "markdown",
   "metadata": {},
   "source": [
    "#### Función para sanitizar nombres de archivos\n",
    "Al hacer la petición al servidor de Llama había problemas con los nombres de los videos, así que hice que los nombres se limpiaran de caracteres especiales para evitar conflictos."
   ]
  },
  {
   "cell_type": "code",
   "execution_count": 3,
   "metadata": {},
   "outputs": [],
   "source": [
    "def sanitize_filename(filename):\n",
    "    filename = re.sub(r'[\\\\/*?:\"<>|]', '_', filename)\n",
    "    filename = filename.replace(' ', '')\n",
    "    return filename"
   ]
  },
  {
   "cell_type": "markdown",
   "metadata": {},
   "source": [
    "#### Descargar el audio de un video de YouTube y transcribir audio a texto\n",
    "Con ayuda de yt_dlp se descargan los audios de los videos tomando los url de los videos"
   ]
  },
  {
   "cell_type": "code",
   "execution_count": 4,
   "metadata": {},
   "outputs": [],
   "source": [
    "def download_audio(video_url, output_dir, sanitized_title):\n",
    "    ydl_opts = {\n",
    "        'format': 'bestaudio/best',\n",
    "        'outtmpl': os.path.join(output_dir, f'{sanitized_title}.%(ext)s'),\n",
    "        'postprocessors': [{\n",
    "            'key': 'FFmpegExtractAudio',\n",
    "            'preferredcodec': 'mp3',\n",
    "            'preferredquality': '192',\n",
    "        }],\n",
    "    }\n",
    "    with yt_dlp.YoutubeDL(ydl_opts) as ydl:\n",
    "        ydl.download([video_url])\n",
    "\n",
    "def transcribe_audio(file_path):\n",
    "    model = whisper.load_model(\"base\")\n",
    "    result = model.transcribe(file_path)\n",
    "    return result['text']"
   ]
  },
  {
   "cell_type": "markdown",
   "metadata": {},
   "source": [
    "#### Función para obtener sinopsis del servidor Llama\n"
   ]
  },
  {
   "cell_type": "code",
   "execution_count": 5,
   "metadata": {},
   "outputs": [],
   "source": [
    "def get_synopsis_from_llama(text):\n",
    "    try:\n",
    "        url = \"http://localhost:1234/v1/completions\"\n",
    "        headers = {\"Content-Type\": \"application/json\"}\n",
    "        payload = {\n",
    "            \"model\": \"llama-3.2-1b-instruct\",\n",
    "            \"prompt\": f\"\"\"\n",
    "                A continuación, se presenta un documento que puede ser la transcripción de un video convertido a texto. Necesito un resumen detallado que contenga toda la información relevante y que sea claro y organizado\n",
    "\n",
    "                Resume los puntos clave discutidos en el video.\n",
    "                Proporciona un breve contexto para cada punto clave.\n",
    "                Incluye explícitamente información numérica o datos importantes si se mencionan.\n",
    "                Destaca conclusiones, opiniones o propuestas presentadas en el video.\n",
    "\n",
    "                Texto original:\n",
    "                {text}\n",
    "                Por favor, crea un resumen preciso y fácil de entender, toma en cuenta que se usara para entrenar a un modelo de lenguaje a traves de embeding.\n",
    "            \"\"\",\n",
    "            \"max_tokens\": 1000\n",
    "        }\n",
    "        print(\"Enviando solicitud al servidor Llama...\")\n",
    "        response = requests.post(url, headers=headers, data=json.dumps(payload))\n",
    "        response.raise_for_status()  # Verifica errores HTTP\n",
    "        response_data = response.json()\n",
    "        return response_data['choices'][0]['text']\n",
    "    except requests.exceptions.RequestException as e:\n",
    "        return f\"Error al conectar con el servidor Llama: {e}\""
   ]
  },
  {
   "cell_type": "markdown",
   "metadata": {},
   "source": [
    "#### Proceso principal del programa"
   ]
  },
  {
   "cell_type": "code",
   "execution_count": 6,
   "metadata": {},
   "outputs": [
    {
     "ename": "FileNotFoundError",
     "evalue": "[Errno 2] No such file or directory: 'YouTube Video List Scraper.csv'",
     "output_type": "error",
     "traceback": [
      "\u001b[1;31m---------------------------------------------------------------------------\u001b[0m",
      "\u001b[1;31mFileNotFoundError\u001b[0m                         Traceback (most recent call last)",
      "Cell \u001b[1;32mIn[6], line 2\u001b[0m\n\u001b[0;32m      1\u001b[0m \u001b[38;5;66;03m# Leer el archivo CSV y procesar los primeros max_videos\u001b[39;00m\n\u001b[1;32m----> 2\u001b[0m \u001b[38;5;28;01mwith\u001b[39;00m \u001b[38;5;28;43mopen\u001b[39;49m\u001b[43m(\u001b[49m\u001b[43mcsv_file_path\u001b[49m\u001b[43m,\u001b[49m\u001b[43m \u001b[49m\u001b[43mnewline\u001b[49m\u001b[38;5;241;43m=\u001b[39;49m\u001b[38;5;124;43m'\u001b[39;49m\u001b[38;5;124;43m'\u001b[39;49m\u001b[43m,\u001b[49m\u001b[43m \u001b[49m\u001b[43mencoding\u001b[49m\u001b[38;5;241;43m=\u001b[39;49m\u001b[38;5;124;43m'\u001b[39;49m\u001b[38;5;124;43mutf-8\u001b[39;49m\u001b[38;5;124;43m'\u001b[39;49m\u001b[43m)\u001b[49m \u001b[38;5;28;01mas\u001b[39;00m csvfile:\n\u001b[0;32m      3\u001b[0m     reader \u001b[38;5;241m=\u001b[39m csv\u001b[38;5;241m.\u001b[39mDictReader(csvfile)\n\u001b[0;32m      4\u001b[0m     rows \u001b[38;5;241m=\u001b[39m \u001b[38;5;28mlist\u001b[39m(reader)\n",
      "File \u001b[1;32m~\\AppData\\Roaming\\Python\\Python312\\site-packages\\IPython\\core\\interactiveshell.py:324\u001b[0m, in \u001b[0;36m_modified_open\u001b[1;34m(file, *args, **kwargs)\u001b[0m\n\u001b[0;32m    317\u001b[0m \u001b[38;5;28;01mif\u001b[39;00m file \u001b[38;5;129;01min\u001b[39;00m {\u001b[38;5;241m0\u001b[39m, \u001b[38;5;241m1\u001b[39m, \u001b[38;5;241m2\u001b[39m}:\n\u001b[0;32m    318\u001b[0m     \u001b[38;5;28;01mraise\u001b[39;00m \u001b[38;5;167;01mValueError\u001b[39;00m(\n\u001b[0;32m    319\u001b[0m         \u001b[38;5;124mf\u001b[39m\u001b[38;5;124m\"\u001b[39m\u001b[38;5;124mIPython won\u001b[39m\u001b[38;5;124m'\u001b[39m\u001b[38;5;124mt let you open fd=\u001b[39m\u001b[38;5;132;01m{\u001b[39;00mfile\u001b[38;5;132;01m}\u001b[39;00m\u001b[38;5;124m by default \u001b[39m\u001b[38;5;124m\"\u001b[39m\n\u001b[0;32m    320\u001b[0m         \u001b[38;5;124m\"\u001b[39m\u001b[38;5;124mas it is likely to crash IPython. If you know what you are doing, \u001b[39m\u001b[38;5;124m\"\u001b[39m\n\u001b[0;32m    321\u001b[0m         \u001b[38;5;124m\"\u001b[39m\u001b[38;5;124myou can use builtins\u001b[39m\u001b[38;5;124m'\u001b[39m\u001b[38;5;124m open.\u001b[39m\u001b[38;5;124m\"\u001b[39m\n\u001b[0;32m    322\u001b[0m     )\n\u001b[1;32m--> 324\u001b[0m \u001b[38;5;28;01mreturn\u001b[39;00m \u001b[43mio_open\u001b[49m\u001b[43m(\u001b[49m\u001b[43mfile\u001b[49m\u001b[43m,\u001b[49m\u001b[43m \u001b[49m\u001b[38;5;241;43m*\u001b[39;49m\u001b[43margs\u001b[49m\u001b[43m,\u001b[49m\u001b[43m \u001b[49m\u001b[38;5;241;43m*\u001b[39;49m\u001b[38;5;241;43m*\u001b[39;49m\u001b[43mkwargs\u001b[49m\u001b[43m)\u001b[49m\n",
      "\u001b[1;31mFileNotFoundError\u001b[0m: [Errno 2] No such file or directory: 'YouTube Video List Scraper.csv'"
     ]
    }
   ],
   "source": [
    "# Leer el archivo CSV y procesar los primeros max_videos\n",
    "with open(csv_file_path, newline='', encoding='utf-8') as csvfile:\n",
    "    reader = csv.DictReader(csvfile)\n",
    "    rows = list(reader)\n",
    "\n",
    "videos_processed = 0\n",
    "for row in rows:\n",
    "    if videos_processed >= max_videos:\n",
    "        break\n",
    "    video_url = row['Video_Link']\n",
    "    \n",
    "    # Obtener el nombre del archivo descargado y limpiarlo\n",
    "    sanitized_title = sanitize_filename(row['Video_Title'].strip())\n",
    "    file_name = os.path.join(audio_output_dir, f\"{sanitized_title}.mp3\")\n",
    "    \n",
    "    print(f\"Descargando audio de {video_url}...\")\n",
    "    download_audio(video_url, audio_output_dir, sanitized_title)\n",
    "    \n",
    "    # Verificar si el archivo de audio se descargó correctamente\n",
    "    if os.path.exists(file_name):\n",
    "        print(f\"Transcribiendo audio de {file_name}...\")\n",
    "        text = transcribe_audio(file_name)\n",
    "        \n",
    "        # Guardar la transcripción en un archivo de texto y limpiarlo\n",
    "        output_file = os.path.join(text_output_dir, f\"{sanitized_title}_transcription.txt\")\n",
    "        with open(output_file, 'w', encoding='utf-8') as f:\n",
    "            f.write(text)\n",
    "        print(f\"Transcripción guardada en {output_file}\")\n",
    "        \n",
    "        # Obtener sinopsis del texto transcrito\n",
    "        print(f\"Obteniendo sinopsis de {output_file}...\")\n",
    "        synopsis = get_synopsis_from_llama(text)\n",
    "        \n",
    "        # Guardar la sinopsis en un archivo de texto y limpiarlo\n",
    "        summary_file = os.path.join(summary_output_dir, f\"{sanitized_title}_summary.txt\")\n",
    "        with open(summary_file, 'w', encoding='utf-8') as f:\n",
    "            f.write(synopsis)\n",
    "        print(f\"Sinopsis guardada en {summary_file}\")\n",
    "        \n",
    "        # Eliminar el registro del archivo CSV\n",
    "        rows.remove(row)\n",
    "        with open(csv_file_path, 'w', newline='', encoding='utf-8') as csvfile:\n",
    "            writer = csv.DictWriter(csvfile, fieldnames=row.keys())\n",
    "            writer.writeheader()\n",
    "            writer.writerows(rows)\n",
    "    else:\n",
    "        print(f\"Error: No se encontró el archivo de audio {file_name}\")\n",
    "    \n",
    "    videos_processed += 1\n"
   ]
  }
 ],
 "metadata": {
  "kernelspec": {
   "display_name": "Python 3",
   "language": "python",
   "name": "python3"
  },
  "language_info": {
   "codemirror_mode": {
    "name": "ipython",
    "version": 3
   },
   "file_extension": ".py",
   "mimetype": "text/x-python",
   "name": "python",
   "nbconvert_exporter": "python",
   "pygments_lexer": "ipython3",
   "version": "3.12.4"
  }
 },
 "nbformat": 4,
 "nbformat_minor": 2
}
